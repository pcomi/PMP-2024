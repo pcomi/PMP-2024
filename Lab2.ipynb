{
  "nbformat": 4,
  "nbformat_minor": 0,
  "metadata": {
    "colab": {
      "provenance": []
    },
    "kernelspec": {
      "name": "python3",
      "display_name": "Python 3"
    },
    "language_info": {
      "name": "python"
    }
  },
  "cells": [
    {
      "cell_type": "markdown",
      "source": [
        "Consideram o urna in care avem 3 bile rosii, 4 albastre si 2 negre. Aruncam un zar; daca obtinem un numar prim, adaugam o bila neagra in urma, daca obtinem 6, adaugam o bila rosie, iar in celelalte cazuri (1 si 4) adaugam o bila albastra. Apoi extragem o bila din urna.\n",
        "\n",
        "a) Simulati in Python experimentul de mai sus\n",
        "\n",
        "b) Folosind modelarea facuta, estimati probabilitatea de a obtine o bila rosie.\n"
      ],
      "metadata": {
        "id": "l_S6HLzKmPmD"
      }
    },
    {
      "cell_type": "code",
      "execution_count": 13,
      "metadata": {
        "colab": {
          "base_uri": "https://localhost:8080/"
        },
        "id": "EauOKdcclqRT",
        "outputId": "77dd0842-5a57-4a73-a47d-c5001ec260cc"
      },
      "outputs": [
        {
          "output_type": "stream",
          "name": "stdout",
          "text": [
            "Probabilitatea de a extrage o minge rosie: 0.31739\n"
          ]
        }
      ],
      "source": [
        "import numpy\n",
        "import random\n",
        "\n",
        "urn = {'red': 3, 'blue': 4, 'black': 2}\n",
        "\n",
        "def sim():\n",
        "    #Urna initiala\n",
        "    urn_aux = urn.copy()\n",
        "\n",
        "    #Dieroll\n",
        "    die_roll = random.randint(1, 6)\n",
        "\n",
        "    #Se adauga mingea corecta\n",
        "    if die_roll == 1 or die_roll == 4:\n",
        "        urn_aux['blue'] += 1\n",
        "    elif die_roll == 6:\n",
        "        urn_aux['red'] += 1\n",
        "    else:#prim\n",
        "        urn_aux['black'] += 1\n",
        "\n",
        "    #Update mingi\n",
        "    balls = ['red'] * urn_aux['red'] + ['blue'] * urn_aux['blue'] + ['black'] * urn_aux['black']\n",
        "\n",
        "    #Draw o minge aleatoriu\n",
        "    drawn_ball = random.choice(balls)\n",
        "\n",
        "    return drawn_ball == 'red'\n",
        "\n",
        "#a)\n",
        "#Run la simulatie de 100000 de ore\n",
        "steps = 100000\n",
        "\n",
        "red_ball_counter = 0\n",
        "for _ in range(steps):\n",
        "    if sim() == True:\n",
        "        red_ball_counter += 1\n",
        "\n",
        "#b)\n",
        "#Probabilitatea de a extrage o minge rosie\n",
        "probability_red = red_ball_counter / steps\n",
        "print(f\"Probabilitatea de a extrage o minge rosie: {probability_red}\")\n",
        "\n"
      ]
    }
  ]
}