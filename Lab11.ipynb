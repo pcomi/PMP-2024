{
  "nbformat": 4,
  "nbformat_minor": 0,
  "metadata": {
    "colab": {
      "provenance": []
    },
    "kernelspec": {
      "name": "python3",
      "display_name": "Python 3"
    },
    "language_info": {
      "name": "python"
    }
  },
  "cells": [
    {
      "cell_type": "markdown",
      "source": [
        "Un cercetător doreşte să studieze factorii care influențează prețul apartamentelor într-un oraş. El a colectat date despre următoarele variabile pentru 100 de apartamente:\n",
        "\n",
        "\n",
        "preţul apartamentului (variabila dependentă y, exprimată în mii de euro);\n",
        "\n",
        "suprafaţa utilă (variabila independentă x1, exprimată în metri pătraţi);\n",
        "\n",
        "numărul de camere (variabila independentă x2);\n",
        "\n",
        "distanţa faţă de centrul oraşului (variabila independentă x3, exprimată în kilometri).\n",
        "\n",
        "Cercetătorul doreşte să construiască un model de regresie liniară multiplă care\n",
        "să estimeze prețul apartamentelor pe baza celor trei variabile independente."
      ],
      "metadata": {
        "id": "mGGnVv8L0mcc"
      }
    },
    {
      "cell_type": "markdown",
      "source": [
        "a) Realizaţi în PyMC un astfel de model, folosind setul de date din fişierul real_estate_data.csv."
      ],
      "metadata": {
        "id": "cuhVjO5K0mF7"
      }
    },
    {
      "cell_type": "code",
      "execution_count": 6,
      "metadata": {
        "colab": {
          "base_uri": "https://localhost:8080/"
        },
        "id": "Yx61vHHejIYs",
        "outputId": "252b66bb-75f7-43c2-e261-14a6fa8c0999"
      },
      "outputs": [
        {
          "output_type": "stream",
          "name": "stdout",
          "text": [
            "model:                              OLS Regression Results                            \n",
            "==============================================================================\n",
            "Dep. Variable:                  Price   R-squared:                       0.995\n",
            "Model:                            OLS   Adj. R-squared:                  0.995\n",
            "Method:                 Least Squares   F-statistic:                     6005.\n",
            "Date:                Tue, 10 Dec 2024   Prob (F-statistic):          4.60e-109\n",
            "Time:                        11:30:57   Log-Likelihood:                -309.63\n",
            "No. Observations:                 100   AIC:                             627.3\n",
            "Df Residuals:                      96   BIC:                             637.7\n",
            "Df Model:                           3                                         \n",
            "Covariance Type:            nonrobust                                         \n",
            "======================================================================================\n",
            "                         coef    std err          t      P>|t|      [0.025      0.975]\n",
            "--------------------------------------------------------------------------------------\n",
            "const                 35.3285      2.575     13.719      0.000      30.217      40.440\n",
            "Surface_area           2.4676      0.019    133.183      0.000       2.431       2.504\n",
            "Rooms                  9.3393      0.475     19.651      0.000       8.396      10.283\n",
            "Distance_to_center    -3.0937      0.195    -15.851      0.000      -3.481      -2.706\n",
            "==============================================================================\n",
            "Omnibus:                        3.078   Durbin-Watson:                   2.244\n",
            "Prob(Omnibus):                  0.215   Jarque-Bera (JB):                3.026\n",
            "Skew:                           0.100   Prob(JB):                        0.220\n",
            "Kurtosis:                       3.829   Cond. No.                         482.\n",
            "==============================================================================\n",
            "\n",
            "Notes:\n",
            "[1] Standard Errors assume that the covariance matrix of the errors is correctly specified.\n"
          ]
        }
      ],
      "source": [
        "import pandas as pd\n",
        "import statsmodels.api as sm\n",
        "\n",
        "file_path = 'real_estate_data.csv'\n",
        "data = pd.read_csv(file_path)\n",
        "\n",
        "X = data[['Surface_area', 'Rooms', 'Distance_to_center']]\n",
        "y = data['Price']\n",
        "\n",
        "X = sm.add_constant(X)\n",
        "\n",
        "model = sm.OLS(y, X).fit()\n",
        "\n",
        "print(\"model: \", model.summary())"
      ]
    },
    {
      "cell_type": "markdown",
      "source": [
        "b) Pe baza rezultatelor obţinute, ce factori credeţi că influenţează mai mult prețul apartamentelor?\n"
      ],
      "metadata": {
        "id": "rN6qbvZO06MW"
      }
    },
    {
      "cell_type": "markdown",
      "source": [
        "Dupa cum se vede din tabel, numarul de camere e cel mai important atribut care influenteaza pretul deoarece are un coeficient de 9.33. Suprafata (coeficient = 2.46) si distanta de centru (coeficient = -3) sunt aproximativ la fel de importante in determinarea pretului, chiar daca prima il creste proportional, iar a doua il scade proportional.\n",
        "\n",
        "In plus, in toate cele 3 cazuri, P>|t| este 0, deci observatiile sunt indeajuns pentru a estima corect gradul de importanta al atributelor."
      ],
      "metadata": {
        "id": "Zhex7oZj4Lby"
      }
    }
  ]
}